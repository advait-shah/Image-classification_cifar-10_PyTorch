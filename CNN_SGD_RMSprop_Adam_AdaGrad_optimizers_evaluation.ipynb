{
  "cells": [
    {
      "cell_type": "markdown",
      "metadata": {
        "id": "Tizfk0ON9sgV"
      },
      "source": [
        "## Libraries\n",
        "\n",
        "Do not import any additional libraries"
      ]
    },
    {
      "cell_type": "code",
      "execution_count": null,
      "metadata": {
        "id": "lzNExBwN9sgX"
      },
      "outputs": [],
      "source": [
        "%matplotlib inline\n",
        "from tqdm import tqdm\n",
        "import matplotlib.pyplot as plt\n",
        "import torch\n",
        "from torch import nn\n",
        "from torch.utils.data import DataLoader\n",
        "import torchvision\n",
        "from torchvision import datasets\n",
        "from torchvision.transforms import ToTensor\n",
        "import torchvision.transforms as transforms\n",
        "import torch.nn.functional as F"
      ]
    },
    {
      "cell_type": "markdown",
      "metadata": {
        "id": "0nepySEK9sgX"
      },
      "source": [
        "## Download dataset and create a data loader\n",
        "PyTorch has two [primitives to work with data](https://pytorch.org/docs/stable/data.html):\n",
        "``torch.utils.data.DataLoader`` and ``torch.utils.data.Dataset``.\n",
        "``Dataset`` stores the samples and their corresponding labels, and ``DataLoader`` wraps an iterable around\n",
        "the ``Dataset``.\n",
        "\n",
        "PyTorch offers domain-specific libraries such as [TorchText](https://pytorch.org/text/stable/index.html),\n",
        "[TorchVision](https://pytorch.org/vision/stable/index.html), and [TorchAudio](https://pytorch.org/audio/stable/index.html),\n",
        "all of which include datasets. For this assignment, we  will be using a TorchVision dataset.\n",
        "\n",
        "The ``torchvision.datasets`` module contains ``Dataset`` objects for many real-world vision data like\n",
        "CIFAR, COCO, MNIST ([full list here](https://pytorch.org/vision/stable/datasets.html)). In this tutorial, we\n",
        "use the CIFAR10 dataset. Every TorchVision ``Dataset`` includes two arguments: ``transform`` and\n",
        "``target_transform`` to modify the samples and labels respectively.\n",
        "\n",
        "We pass the ``Dataset`` as an argument to ``DataLoader``. This wraps an iterable over our dataset, and supports\n",
        "automatic batching, sampling, shuffling and multiprocess data loading. Here we define a batch size of 64, i.e. each element\n",
        "in the dataloader iterable will return a batch of 64 features and labels."
      ]
    },
    {
      "cell_type": "code",
      "execution_count": null,
      "metadata": {
        "id": "tIYLa4De9sgY",
        "colab": {
          "base_uri": "https://localhost:8080/"
        },
        "outputId": "1ef23d22-753c-4a2a-f607-9985ca01a6ce"
      },
      "outputs": [
        {
          "output_type": "stream",
          "name": "stdout",
          "text": [
            "Files already downloaded and verified\n",
            "Files already downloaded and verified\n"
          ]
        }
      ],
      "source": [
        "transform = transforms.Compose(\n",
        "    [transforms.ToTensor(),\n",
        "     transforms.Normalize((0.5, 0.5, 0.5), (0.5, 0.5, 0.5))])\n",
        "\n",
        "batch_size = 64\n",
        "\n",
        "#download training set\n",
        "trainset = torchvision.datasets.CIFAR10(root='./data', train=True, download=True, transform=transform)\n",
        "train_dataloader = torch.utils.data.DataLoader(trainset, batch_size=batch_size, shuffle=True, num_workers=2)\n",
        "\n",
        "#download test set\n",
        "testset = torchvision.datasets.CIFAR10(root='./data', train=False, download=True, transform=transform)\n",
        "test_dataloader = torch.utils.data.DataLoader(testset, batch_size=batch_size, shuffle=False, num_workers=2)\n",
        "\n",
        "classes = ('plane', 'car', 'bird', 'cat', 'deer', 'dog', 'frog', 'horse', 'ship', 'truck')"
      ]
    },
    {
      "cell_type": "markdown",
      "metadata": {
        "id": "xb4nxsj09sgb"
      },
      "source": [
        "## Creating Models\n",
        "To define a neural network in PyTorch, we create a class that inherits\n",
        "from [nn.Module](https://pytorch.org/docs/stable/generated/torch.nn.Module.html). We define the layers of the network\n",
        "in the ``__init__`` function and specify how data will pass through the network in the ``forward`` function. To accelerate\n",
        "operations in the neural network, we move it to the GPU if available.\n",
        "\n"
      ]
    },
    {
      "cell_type": "code",
      "execution_count": null,
      "metadata": {
        "colab": {
          "base_uri": "https://localhost:8080/"
        },
        "id": "MpBSXtBL9sgb",
        "outputId": "848bd330-5767-4170-ab74-2a552252f1bb",
        "scrolled": false
      },
      "outputs": [
        {
          "output_type": "stream",
          "name": "stdout",
          "text": [
            "Using cuda device\n",
            "CNN(\n",
            "  (conv1): Conv2d(3, 16, kernel_size=(5, 5), stride=(1, 1), padding=same)\n",
            "  (conv2): Conv2d(16, 32, kernel_size=(5, 5), stride=(1, 1), padding=same)\n",
            "  (pool): MaxPool2d(kernel_size=2, stride=2, padding=0, dilation=1, ceil_mode=False)\n",
            "  (fc1): Linear(in_features=2048, out_features=512, bias=True)\n",
            "  (fc2): Linear(in_features=512, out_features=10, bias=True)\n",
            ")\n",
            "CNN(\n",
            "  (conv1): Conv2d(3, 16, kernel_size=(5, 5), stride=(1, 1), padding=same)\n",
            "  (conv2): Conv2d(16, 32, kernel_size=(5, 5), stride=(1, 1), padding=same)\n",
            "  (pool): MaxPool2d(kernel_size=2, stride=2, padding=0, dilation=1, ceil_mode=False)\n",
            "  (fc1): Linear(in_features=2048, out_features=512, bias=True)\n",
            "  (fc2): Linear(in_features=512, out_features=10, bias=True)\n",
            ")\n",
            "CNN(\n",
            "  (conv1): Conv2d(3, 16, kernel_size=(5, 5), stride=(1, 1), padding=same)\n",
            "  (conv2): Conv2d(16, 32, kernel_size=(5, 5), stride=(1, 1), padding=same)\n",
            "  (pool): MaxPool2d(kernel_size=2, stride=2, padding=0, dilation=1, ceil_mode=False)\n",
            "  (fc1): Linear(in_features=2048, out_features=512, bias=True)\n",
            "  (fc2): Linear(in_features=512, out_features=10, bias=True)\n",
            ")\n",
            "CNN(\n",
            "  (conv1): Conv2d(3, 16, kernel_size=(5, 5), stride=(1, 1), padding=same)\n",
            "  (conv2): Conv2d(16, 32, kernel_size=(5, 5), stride=(1, 1), padding=same)\n",
            "  (pool): MaxPool2d(kernel_size=2, stride=2, padding=0, dilation=1, ceil_mode=False)\n",
            "  (fc1): Linear(in_features=2048, out_features=512, bias=True)\n",
            "  (fc2): Linear(in_features=512, out_features=10, bias=True)\n",
            ")\n"
          ]
        }
      ],
      "source": [
        "# Get cpu or gpu device for training.\n",
        "device = \"cuda\" if torch.cuda.is_available() else \"mps\" if torch.backends.mps.is_available() else \"cpu\"\n",
        "print(f\"Using {device} device\")\n",
        "\n",
        "# Define a CNN model with following layers: input > Conv > Pool > Conv > Pool > Linear > Output\n",
        "class CNN(nn.Module):\n",
        "    def __init__(self):\n",
        "        super().__init__()\n",
        "        self.conv1 = nn.Conv2d(3, 16, 5, padding='same')\n",
        "        self.conv2 = nn.Conv2d(16, 32, 5, padding='same')\n",
        "        self.pool = nn.MaxPool2d(2, 2)\n",
        "        self.fc1 = nn.Linear(32*8*8,512)\n",
        "        self.fc2 = nn.Linear(512, 10)\n",
        "\n",
        "    def forward(self, x):\n",
        "        x = F.relu(self.conv1(x))\n",
        "        x = self.pool(x)\n",
        "\n",
        "        x = F.relu(self.conv2(x))\n",
        "        x = self.pool(x)\n",
        "\n",
        "        x = torch.flatten(x, 1) # flatten all dimensions except batch\n",
        "        x = F.relu(self.fc1(x))\n",
        "        x = F.log_softmax(self.fc2(x), 1)\n",
        "        return x\n",
        "\n",
        "model = CNN().to(device) # for Adam optimizer\n",
        "print(model)\n",
        "\n",
        "model1 = CNN().to(device) # for SGD optimizer\n",
        "print(model1)\n",
        "\n",
        "model2 = CNN().to(device) # for RMSprop optimizer\n",
        "print(model2)\n",
        "\n",
        "model3 = CNN().to(device) # for Adagrad optimizer\n",
        "print(model3)"
      ]
    },
    {
      "cell_type": "markdown",
      "metadata": {
        "id": "ZfM14VqI9sgc"
      },
      "source": [
        "## Optimizing the Model Parameters\n",
        "To train a model, we need a [loss function](https://pytorch.org/docs/stable/nn.html#loss-functions)\n",
        "and an [optimizer](https://pytorch.org/docs/stable/optim.html).\n",
        "\n"
      ]
    },
    {
      "cell_type": "code",
      "execution_count": null,
      "metadata": {
        "id": "6dwIz7Te9sgc"
      },
      "outputs": [],
      "source": [
        "#negative log likelihood loss\n",
        "loss_fn = nn.NLLLoss()\n",
        "\n",
        "# use 'Adam', 'SGD', 'RMSprop', 'Adagrad' optimizers\n",
        "optimizer = torch.optim.Adam(model.parameters())\n",
        "optimizer1 = torch.optim.SGD(model1.parameters(),lr=0.001)\n",
        "optimizer2 = torch.optim.RMSprop(model2.parameters(),lr=0.0001)\n",
        "optimizer3 = torch.optim.Adagrad(model3.parameters())"
      ]
    },
    {
      "cell_type": "markdown",
      "metadata": {
        "id": "mvmlIxNV9sgc"
      },
      "source": [
        "## Training function\n",
        "\n",
        "In a single training loop, the model makes predictions on the training dataset (fed to it in batches), and\n",
        "backpropagates the prediction error to adjust the model's parameters."
      ]
    },
    {
      "cell_type": "code",
      "execution_count": null,
      "metadata": {
        "id": "HnuRU9-K9sgd"
      },
      "outputs": [],
      "source": [
        "def train(dataloader, model, loss_fn, optimizer):\n",
        "    size = len(dataloader.dataset)\n",
        "    num_batches = len(dataloader)\n",
        "    model.train()\n",
        "    train_loss, correct = 0, 0\n",
        "    for batch, (X, y) in enumerate(dataloader):\n",
        "        X, y = X.to(device), y.to(device)\n",
        "\n",
        "        # Compute prediction error\n",
        "        pred = model(X)\n",
        "        loss = loss_fn(pred, y)\n",
        "        train_loss += loss.item()\n",
        "        correct += (pred.argmax(1) == y).type(torch.float).sum().item()\n",
        "\n",
        "        # Backpropagation\n",
        "        optimizer.zero_grad()\n",
        "        loss.backward()\n",
        "        optimizer.step()\n",
        "\n",
        "    average_train_loss = train_loss / num_batches\n",
        "    accuracy = correct / size\n",
        "    return accuracy, average_train_loss"
      ]
    },
    {
      "cell_type": "markdown",
      "metadata": {
        "id": "YqWkWSVy9sgd"
      },
      "source": [
        "## Testing function\n",
        "\n",
        "We also check the model's performance against the test dataset to ensure it is learning.\n",
        "\n"
      ]
    },
    {
      "cell_type": "code",
      "execution_count": null,
      "metadata": {
        "id": "AbnkvnVU9sgd"
      },
      "outputs": [],
      "source": [
        "def test(dataloader, model, loss_fn):\n",
        "    size = len(dataloader.dataset)\n",
        "    num_batches = len(dataloader)\n",
        "    model.eval()\n",
        "    test_loss, correct = 0, 0\n",
        "    with torch.no_grad():\n",
        "        for X, y in dataloader:\n",
        "            X, y = X.to(device), y.to(device)\n",
        "            pred = model(X)\n",
        "            test_loss += loss_fn(pred, y).item()\n",
        "            correct += (pred.argmax(1) == y).type(torch.float).sum().item()\n",
        "    average_test_loss = test_loss / num_batches\n",
        "    accuracy = correct / size\n",
        "    return accuracy, average_test_loss"
      ]
    },
    {
      "cell_type": "markdown",
      "metadata": {
        "id": "Avpcl-Wi9sgd"
      },
      "source": [
        "## Training process\n",
        "\n",
        "The training process is conducted over several iterations (*epochs*). During each epoch, the model learns\n",
        "parameters to make better predictions. We print the model's accuracy and loss at each epoch; we'd like to see the\n",
        "accuracy increase and the loss decrease with every epoch.\n",
        "\n"
      ]
    },
    {
      "cell_type": "code",
      "execution_count": null,
      "metadata": {
        "colab": {
          "base_uri": "https://localhost:8080/"
        },
        "id": "hMx1yZgj9sgd",
        "outputId": "9bf2079b-8591-4592-e149-70663a3dfa44"
      },
      "outputs": [
        {
          "output_type": "stream",
          "name": "stderr",
          "text": [
            " 10%|█         | 1/10 [00:15<02:22, 15.83s/it]"
          ]
        },
        {
          "output_type": "stream",
          "name": "stdout",
          "text": [
            "Epoch 1:\t Train accuracy: 51.5%\t Avg train loss: 1.353292\t Test accuracy: 61.1%\t Avg test loss: 1.093919\n"
          ]
        },
        {
          "output_type": "stream",
          "name": "stderr",
          "text": [
            "\r 20%|██        | 2/10 [00:31<02:03, 15.49s/it]"
          ]
        },
        {
          "output_type": "stream",
          "name": "stdout",
          "text": [
            "Epoch 2:\t Train accuracy: 65.3%\t Avg train loss: 0.981668\t Test accuracy: 66.9%\t Avg test loss: 0.938794\n"
          ]
        },
        {
          "output_type": "stream",
          "name": "stderr",
          "text": [
            "\r 30%|███       | 3/10 [00:46<01:47, 15.40s/it]"
          ]
        },
        {
          "output_type": "stream",
          "name": "stdout",
          "text": [
            "Epoch 3:\t Train accuracy: 71.8%\t Avg train loss: 0.801403\t Test accuracy: 69.6%\t Avg test loss: 0.869945\n"
          ]
        },
        {
          "output_type": "stream",
          "name": "stderr",
          "text": [
            "\r 40%|████      | 4/10 [01:01<01:31, 15.33s/it]"
          ]
        },
        {
          "output_type": "stream",
          "name": "stdout",
          "text": [
            "Epoch 4:\t Train accuracy: 77.4%\t Avg train loss: 0.646619\t Test accuracy: 69.3%\t Avg test loss: 0.892433\n"
          ]
        },
        {
          "output_type": "stream",
          "name": "stderr",
          "text": [
            "\r 50%|█████     | 5/10 [01:17<01:17, 15.58s/it]"
          ]
        },
        {
          "output_type": "stream",
          "name": "stdout",
          "text": [
            "Epoch 5:\t Train accuracy: 82.2%\t Avg train loss: 0.512135\t Test accuracy: 71.6%\t Avg test loss: 0.877825\n"
          ]
        },
        {
          "output_type": "stream",
          "name": "stderr",
          "text": [
            "\r 60%|██████    | 6/10 [01:32<01:01, 15.42s/it]"
          ]
        },
        {
          "output_type": "stream",
          "name": "stdout",
          "text": [
            "Epoch 6:\t Train accuracy: 87.0%\t Avg train loss: 0.375298\t Test accuracy: 71.3%\t Avg test loss: 0.937661\n"
          ]
        },
        {
          "output_type": "stream",
          "name": "stderr",
          "text": [
            "\r 70%|███████   | 7/10 [01:47<00:45, 15.25s/it]"
          ]
        },
        {
          "output_type": "stream",
          "name": "stdout",
          "text": [
            "Epoch 7:\t Train accuracy: 91.2%\t Avg train loss: 0.258570\t Test accuracy: 70.9%\t Avg test loss: 1.062553\n"
          ]
        },
        {
          "output_type": "stream",
          "name": "stderr",
          "text": [
            "\r 80%|████████  | 8/10 [02:02<00:30, 15.22s/it]"
          ]
        },
        {
          "output_type": "stream",
          "name": "stdout",
          "text": [
            "Epoch 8:\t Train accuracy: 94.1%\t Avg train loss: 0.176105\t Test accuracy: 70.9%\t Avg test loss: 1.217898\n"
          ]
        },
        {
          "output_type": "stream",
          "name": "stderr",
          "text": [
            "\r 90%|█████████ | 9/10 [02:18<00:15, 15.46s/it]"
          ]
        },
        {
          "output_type": "stream",
          "name": "stdout",
          "text": [
            "Epoch 9:\t Train accuracy: 95.5%\t Avg train loss: 0.129692\t Test accuracy: 70.3%\t Avg test loss: 1.384095\n"
          ]
        },
        {
          "output_type": "stream",
          "name": "stderr",
          "text": [
            "100%|██████████| 10/10 [02:33<00:00, 15.36s/it]"
          ]
        },
        {
          "output_type": "stream",
          "name": "stdout",
          "text": [
            "Epoch 10:\t Train accuracy: 96.5%\t Avg train loss: 0.103402\t Test accuracy: 70.5%\t Avg test loss: 1.517097\n"
          ]
        },
        {
          "output_type": "stream",
          "name": "stderr",
          "text": [
            "\n"
          ]
        }
      ],
      "source": [
        "# for Adam optimizer\n",
        "epochs = 10\n",
        "all_train_accuracies = []\n",
        "all_test_accuracies = []\n",
        "for t in tqdm(range(epochs)):\n",
        "    \n",
        "    # train\n",
        "    train_accuracy, average_train_loss = train(train_dataloader, model, loss_fn, optimizer)\n",
        "    all_train_accuracies += [train_accuracy]\n",
        "    \n",
        "    #test\n",
        "    test_accuracy, average_test_loss = test(test_dataloader, model, loss_fn)\n",
        "    all_test_accuracies += [test_accuracy]\n",
        "    \n",
        "    print(f\"Epoch {t+1}:\\t Train accuracy: {100*train_accuracy:0.1f}%\\t Avg train loss: {average_train_loss:>6f}\\t Test accuracy: {100*test_accuracy:0.1f}%\\t Avg test loss: {average_test_loss:>6f}\")"
      ]
    },
    {
      "cell_type": "code",
      "source": [
        "# for SGD optimizer\n",
        "epochs = 10\n",
        "all_train_accuracies_1 = []\n",
        "all_test_accuracies_1 = []\n",
        "for t in tqdm(range(epochs)):\n",
        "    \n",
        "    # train\n",
        "    train_accuracy, average_train_loss = train(train_dataloader, model1, loss_fn, optimizer1)\n",
        "    all_train_accuracies_1 += [train_accuracy]\n",
        "    \n",
        "    #test\n",
        "    test_accuracy, average_test_loss = test(test_dataloader, model1, loss_fn)\n",
        "    all_test_accuracies_1 += [test_accuracy]\n",
        "    \n",
        "    print(f\"Epoch {t+1}:\\t Train accuracy: {100*train_accuracy:0.1f}%\\t Avg train loss: {average_train_loss:>6f}\\t Test accuracy: {100*test_accuracy:0.1f}%\\t Avg test loss: {average_test_loss:>6f}\")"
      ],
      "metadata": {
        "colab": {
          "base_uri": "https://localhost:8080/"
        },
        "id": "FgaHtcNCBq_7",
        "outputId": "863cfc2b-59b8-4a33-f87a-bd28a246af88"
      },
      "execution_count": null,
      "outputs": [
        {
          "output_type": "stream",
          "name": "stderr",
          "text": [
            " 10%|█         | 1/10 [00:14<02:09, 14.40s/it]"
          ]
        },
        {
          "output_type": "stream",
          "name": "stdout",
          "text": [
            "Epoch 1:\t Train accuracy: 12.2%\t Avg train loss: 2.298891\t Test accuracy: 15.7%\t Avg test loss: 2.292746\n"
          ]
        },
        {
          "output_type": "stream",
          "name": "stderr",
          "text": [
            "\r 20%|██        | 2/10 [00:28<01:55, 14.49s/it]"
          ]
        },
        {
          "output_type": "stream",
          "name": "stdout",
          "text": [
            "Epoch 2:\t Train accuracy: 17.5%\t Avg train loss: 2.285232\t Test accuracy: 19.8%\t Avg test loss: 2.274650\n"
          ]
        },
        {
          "output_type": "stream",
          "name": "stderr",
          "text": [
            "\r 30%|███       | 3/10 [00:43<01:42, 14.59s/it]"
          ]
        },
        {
          "output_type": "stream",
          "name": "stdout",
          "text": [
            "Epoch 3:\t Train accuracy: 21.9%\t Avg train loss: 2.256911\t Test accuracy: 22.7%\t Avg test loss: 2.229595\n"
          ]
        },
        {
          "output_type": "stream",
          "name": "stderr",
          "text": [
            "\r 40%|████      | 4/10 [00:58<01:29, 14.86s/it]"
          ]
        },
        {
          "output_type": "stream",
          "name": "stdout",
          "text": [
            "Epoch 4:\t Train accuracy: 23.6%\t Avg train loss: 2.188177\t Test accuracy: 24.8%\t Avg test loss: 2.134627\n"
          ]
        },
        {
          "output_type": "stream",
          "name": "stderr",
          "text": [
            "\r 50%|█████     | 5/10 [01:13<01:13, 14.76s/it]"
          ]
        },
        {
          "output_type": "stream",
          "name": "stdout",
          "text": [
            "Epoch 5:\t Train accuracy: 25.4%\t Avg train loss: 2.098357\t Test accuracy: 27.5%\t Avg test loss: 2.053611\n"
          ]
        },
        {
          "output_type": "stream",
          "name": "stderr",
          "text": [
            "\r 60%|██████    | 6/10 [01:27<00:58, 14.64s/it]"
          ]
        },
        {
          "output_type": "stream",
          "name": "stdout",
          "text": [
            "Epoch 6:\t Train accuracy: 27.8%\t Avg train loss: 2.031389\t Test accuracy: 29.5%\t Avg test loss: 1.991046\n"
          ]
        },
        {
          "output_type": "stream",
          "name": "stderr",
          "text": [
            "\r 70%|███████   | 7/10 [01:42<00:43, 14.56s/it]"
          ]
        },
        {
          "output_type": "stream",
          "name": "stdout",
          "text": [
            "Epoch 7:\t Train accuracy: 30.4%\t Avg train loss: 1.968846\t Test accuracy: 32.6%\t Avg test loss: 1.925755\n"
          ]
        },
        {
          "output_type": "stream",
          "name": "stderr",
          "text": [
            "\r 80%|████████  | 8/10 [01:56<00:28, 14.49s/it]"
          ]
        },
        {
          "output_type": "stream",
          "name": "stdout",
          "text": [
            "Epoch 8:\t Train accuracy: 32.5%\t Avg train loss: 1.906814\t Test accuracy: 33.6%\t Avg test loss: 1.870114\n"
          ]
        },
        {
          "output_type": "stream",
          "name": "stderr",
          "text": [
            "\r 90%|█████████ | 9/10 [02:10<00:14, 14.41s/it]"
          ]
        },
        {
          "output_type": "stream",
          "name": "stdout",
          "text": [
            "Epoch 9:\t Train accuracy: 34.2%\t Avg train loss: 1.856370\t Test accuracy: 35.3%\t Avg test loss: 1.822608\n"
          ]
        },
        {
          "output_type": "stream",
          "name": "stderr",
          "text": [
            "100%|██████████| 10/10 [02:25<00:00, 14.59s/it]"
          ]
        },
        {
          "output_type": "stream",
          "name": "stdout",
          "text": [
            "Epoch 10:\t Train accuracy: 35.6%\t Avg train loss: 1.812905\t Test accuracy: 37.2%\t Avg test loss: 1.782018\n"
          ]
        },
        {
          "output_type": "stream",
          "name": "stderr",
          "text": [
            "\n"
          ]
        }
      ]
    },
    {
      "cell_type": "code",
      "source": [
        "# for RMSprop optimizer\n",
        "epochs = 10\n",
        "all_train_accuracies_2 = []\n",
        "all_test_accuracies_2 = []\n",
        "for t in tqdm(range(epochs)):\n",
        "    \n",
        "    # train\n",
        "    train_accuracy, average_train_loss = train(train_dataloader, model2, loss_fn, optimizer2)\n",
        "    all_train_accuracies_2 += [train_accuracy]\n",
        "    \n",
        "    #test\n",
        "    test_accuracy, average_test_loss = test(test_dataloader, model2, loss_fn)\n",
        "    all_test_accuracies_2 += [test_accuracy]\n",
        "    \n",
        "    print(f\"Epoch {t+1}:\\t Train accuracy: {100*train_accuracy:0.1f}%\\t Avg train loss: {average_train_loss:>6f}\\t Test accuracy: {100*test_accuracy:0.1f}%\\t Avg test loss: {average_test_loss:>6f}\")"
      ],
      "metadata": {
        "colab": {
          "base_uri": "https://localhost:8080/"
        },
        "id": "GylWO8rfBr53",
        "outputId": "44916e04-f6c7-4f25-8e1d-faba68412655"
      },
      "execution_count": null,
      "outputs": [
        {
          "output_type": "stream",
          "name": "stderr",
          "text": [
            " 10%|█         | 1/10 [00:15<02:15, 15.03s/it]"
          ]
        },
        {
          "output_type": "stream",
          "name": "stdout",
          "text": [
            "Epoch 1:\t Train accuracy: 41.7%\t Avg train loss: 1.640114\t Test accuracy: 44.4%\t Avg test loss: 1.525195\n"
          ]
        },
        {
          "output_type": "stream",
          "name": "stderr",
          "text": [
            "\r 20%|██        | 2/10 [00:29<01:58, 14.77s/it]"
          ]
        },
        {
          "output_type": "stream",
          "name": "stdout",
          "text": [
            "Epoch 2:\t Train accuracy: 50.3%\t Avg train loss: 1.400908\t Test accuracy: 53.3%\t Avg test loss: 1.337075\n"
          ]
        },
        {
          "output_type": "stream",
          "name": "stderr",
          "text": [
            "\r 30%|███       | 3/10 [00:44<01:43, 14.74s/it]"
          ]
        },
        {
          "output_type": "stream",
          "name": "stdout",
          "text": [
            "Epoch 3:\t Train accuracy: 54.5%\t Avg train loss: 1.291007\t Test accuracy: 54.3%\t Avg test loss: 1.280342\n"
          ]
        },
        {
          "output_type": "stream",
          "name": "stderr",
          "text": [
            "\r 40%|████      | 4/10 [00:58<01:27, 14.65s/it]"
          ]
        },
        {
          "output_type": "stream",
          "name": "stdout",
          "text": [
            "Epoch 4:\t Train accuracy: 57.6%\t Avg train loss: 1.210256\t Test accuracy: 56.3%\t Avg test loss: 1.242979\n"
          ]
        },
        {
          "output_type": "stream",
          "name": "stderr",
          "text": [
            "\r 50%|█████     | 5/10 [01:13<01:14, 14.82s/it]"
          ]
        },
        {
          "output_type": "stream",
          "name": "stdout",
          "text": [
            "Epoch 5:\t Train accuracy: 60.0%\t Avg train loss: 1.143906\t Test accuracy: 54.4%\t Avg test loss: 1.253583\n"
          ]
        },
        {
          "output_type": "stream",
          "name": "stderr",
          "text": [
            "\r 60%|██████    | 6/10 [01:29<00:59, 14.97s/it]"
          ]
        },
        {
          "output_type": "stream",
          "name": "stdout",
          "text": [
            "Epoch 6:\t Train accuracy: 61.8%\t Avg train loss: 1.089258\t Test accuracy: 58.6%\t Avg test loss: 1.178522\n"
          ]
        },
        {
          "output_type": "stream",
          "name": "stderr",
          "text": [
            "\r 70%|███████   | 7/10 [01:43<00:44, 14.90s/it]"
          ]
        },
        {
          "output_type": "stream",
          "name": "stdout",
          "text": [
            "Epoch 7:\t Train accuracy: 63.6%\t Avg train loss: 1.039702\t Test accuracy: 60.1%\t Avg test loss: 1.129066\n"
          ]
        },
        {
          "output_type": "stream",
          "name": "stderr",
          "text": [
            "\r 80%|████████  | 8/10 [01:58<00:29, 14.82s/it]"
          ]
        },
        {
          "output_type": "stream",
          "name": "stdout",
          "text": [
            "Epoch 8:\t Train accuracy: 65.4%\t Avg train loss: 0.996034\t Test accuracy: 62.0%\t Avg test loss: 1.075151\n"
          ]
        },
        {
          "output_type": "stream",
          "name": "stderr",
          "text": [
            "\r 90%|█████████ | 9/10 [02:13<00:14, 14.75s/it]"
          ]
        },
        {
          "output_type": "stream",
          "name": "stdout",
          "text": [
            "Epoch 9:\t Train accuracy: 66.9%\t Avg train loss: 0.955664\t Test accuracy: 62.1%\t Avg test loss: 1.071141\n"
          ]
        },
        {
          "output_type": "stream",
          "name": "stderr",
          "text": [
            "100%|██████████| 10/10 [02:27<00:00, 14.79s/it]"
          ]
        },
        {
          "output_type": "stream",
          "name": "stdout",
          "text": [
            "Epoch 10:\t Train accuracy: 68.1%\t Avg train loss: 0.918133\t Test accuracy: 64.4%\t Avg test loss: 1.020080\n"
          ]
        },
        {
          "output_type": "stream",
          "name": "stderr",
          "text": [
            "\n"
          ]
        }
      ]
    },
    {
      "cell_type": "code",
      "source": [
        "# for Adagrad optimizer\n",
        "epochs = 10\n",
        "all_train_accuracies_3 = []\n",
        "all_test_accuracies_3 = []\n",
        "for t in tqdm(range(epochs)):\n",
        "    \n",
        "    # train\n",
        "    train_accuracy, average_train_loss = train(train_dataloader, model3, loss_fn, optimizer3)\n",
        "    all_train_accuracies_3 += [train_accuracy]\n",
        "    \n",
        "    #test\n",
        "    test_accuracy, average_test_loss = test(test_dataloader, model3, loss_fn)\n",
        "    all_test_accuracies_3 += [test_accuracy]\n",
        "    \n",
        "    print(f\"Epoch {t+1}:\\t Train accuracy: {100*train_accuracy:0.1f}%\\t Avg train loss: {average_train_loss:>6f}\\t Test accuracy: {100*test_accuracy:0.1f}%\\t Avg test loss: {average_test_loss:>6f}\")"
      ],
      "metadata": {
        "colab": {
          "base_uri": "https://localhost:8080/"
        },
        "id": "DddLTLNwBtHm",
        "outputId": "d57fa2cd-83ca-4e65-d755-f5b22d83852a"
      },
      "execution_count": null,
      "outputs": [
        {
          "output_type": "stream",
          "name": "stderr",
          "text": [
            " 10%|█         | 1/10 [00:15<02:19, 15.52s/it]"
          ]
        },
        {
          "output_type": "stream",
          "name": "stdout",
          "text": [
            "Epoch 1:\t Train accuracy: 48.4%\t Avg train loss: 1.440345\t Test accuracy: 54.5%\t Avg test loss: 1.265522\n"
          ]
        },
        {
          "output_type": "stream",
          "name": "stderr",
          "text": [
            "\r 20%|██        | 2/10 [00:30<02:00, 15.01s/it]"
          ]
        },
        {
          "output_type": "stream",
          "name": "stdout",
          "text": [
            "Epoch 2:\t Train accuracy: 61.7%\t Avg train loss: 1.086743\t Test accuracy: 60.7%\t Avg test loss: 1.094064\n"
          ]
        },
        {
          "output_type": "stream",
          "name": "stderr",
          "text": [
            "\r 30%|███       | 3/10 [00:44<01:44, 14.91s/it]"
          ]
        },
        {
          "output_type": "stream",
          "name": "stdout",
          "text": [
            "Epoch 3:\t Train accuracy: 66.5%\t Avg train loss: 0.959664\t Test accuracy: 64.7%\t Avg test loss: 0.998196\n"
          ]
        },
        {
          "output_type": "stream",
          "name": "stderr",
          "text": [
            "\r 40%|████      | 4/10 [01:00<01:29, 14.98s/it]"
          ]
        },
        {
          "output_type": "stream",
          "name": "stdout",
          "text": [
            "Epoch 4:\t Train accuracy: 69.5%\t Avg train loss: 0.876815\t Test accuracy: 66.4%\t Avg test loss: 0.959225\n"
          ]
        },
        {
          "output_type": "stream",
          "name": "stderr",
          "text": [
            "\r 50%|█████     | 5/10 [01:14<01:14, 14.88s/it]"
          ]
        },
        {
          "output_type": "stream",
          "name": "stdout",
          "text": [
            "Epoch 5:\t Train accuracy: 71.8%\t Avg train loss: 0.811351\t Test accuracy: 63.6%\t Avg test loss: 1.031265\n"
          ]
        },
        {
          "output_type": "stream",
          "name": "stderr",
          "text": [
            "\r 60%|██████    | 6/10 [01:30<01:00, 15.06s/it]"
          ]
        },
        {
          "output_type": "stream",
          "name": "stdout",
          "text": [
            "Epoch 6:\t Train accuracy: 73.9%\t Avg train loss: 0.756019\t Test accuracy: 66.8%\t Avg test loss: 0.946758\n"
          ]
        },
        {
          "output_type": "stream",
          "name": "stderr",
          "text": [
            "\r 70%|███████   | 7/10 [01:44<00:44, 14.98s/it]"
          ]
        },
        {
          "output_type": "stream",
          "name": "stdout",
          "text": [
            "Epoch 7:\t Train accuracy: 75.4%\t Avg train loss: 0.710392\t Test accuracy: 68.3%\t Avg test loss: 0.916490\n"
          ]
        },
        {
          "output_type": "stream",
          "name": "stderr",
          "text": [
            "\r 80%|████████  | 8/10 [01:59<00:29, 14.91s/it]"
          ]
        },
        {
          "output_type": "stream",
          "name": "stdout",
          "text": [
            "Epoch 8:\t Train accuracy: 77.0%\t Avg train loss: 0.666919\t Test accuracy: 68.9%\t Avg test loss: 0.918267\n"
          ]
        },
        {
          "output_type": "stream",
          "name": "stderr",
          "text": [
            "\r 90%|█████████ | 9/10 [02:14<00:14, 14.83s/it]"
          ]
        },
        {
          "output_type": "stream",
          "name": "stdout",
          "text": [
            "Epoch 9:\t Train accuracy: 78.6%\t Avg train loss: 0.625931\t Test accuracy: 69.9%\t Avg test loss: 0.881568\n"
          ]
        },
        {
          "output_type": "stream",
          "name": "stderr",
          "text": [
            "100%|██████████| 10/10 [02:29<00:00, 14.90s/it]"
          ]
        },
        {
          "output_type": "stream",
          "name": "stdout",
          "text": [
            "Epoch 10:\t Train accuracy: 79.9%\t Avg train loss: 0.589259\t Test accuracy: 70.0%\t Avg test loss: 0.897387\n"
          ]
        },
        {
          "output_type": "stream",
          "name": "stderr",
          "text": [
            "\n"
          ]
        }
      ]
    },
    {
      "cell_type": "markdown",
      "metadata": {
        "id": "WQulZI5WmOxj"
      },
      "source": [
        "## Plot Results\n",
        "\n",
        "Display the training and testing accuracy as a function of the number of epochs\n",
        "\n"
      ]
    },
    {
      "cell_type": "code",
      "execution_count": null,
      "metadata": {
        "colab": {
          "base_uri": "https://localhost:8080/",
          "height": 573
        },
        "id": "skMTjNFzmOxj",
        "outputId": "a3dfa394-0a68-49dd-e98c-ceaaea21678b"
      },
      "outputs": [
        {
          "output_type": "display_data",
          "data": {
            "text/plain": [
              "<Figure size 432x288 with 1 Axes>"
            ],
            "image/png": "[encoded data removed]"
          },
          "metadata": {
            "needs_background": "light"
          }
        },
        {
          "output_type": "display_data",
          "data": {
            "text/plain": [
              "<Figure size 432x288 with 1 Axes>"
            ],
            "image/png": "[encoded data removed]"
          },
          "metadata": {
            "needs_background": "light"
          }
        }
      ],
      "source": [
        "plt.plot(all_train_accuracies)\n",
        "plt.plot(all_train_accuracies_1)\n",
        "plt.plot(all_train_accuracies_2)\n",
        "plt.plot(all_train_accuracies_3)\n",
        "plt.title('training accuracy')\n",
        "plt.ylabel('training accuracy')\n",
        "plt.xlabel('epoch')\n",
        "plt.legend(['Adam', 'SGD', 'RMSprop', 'Adagrad'], loc='lower right')\n",
        "plt.show()\n",
        "\n",
        "plt.plot(all_test_accuracies)\n",
        "plt.plot(all_test_accuracies_1)\n",
        "plt.plot(all_test_accuracies_2)\n",
        "plt.plot(all_test_accuracies_3)\n",
        "plt.title('testing accuracy')\n",
        "plt.ylabel('testing accuracy')\n",
        "plt.xlabel('epoch')\n",
        "plt.legend(['Adam', 'SGD', 'RMSprop', 'Adagrad'], loc='lower right')\n",
        "plt.show()\n"
      ]
    },
    {
      "cell_type": "markdown",
      "source": [
        "Explanation:\n",
        "\n",
        "* As we can see from the training and testing accuracy plots, Adam and Adagrad optimizer based trained models are giving us the highest test accuracy levels after certain number of epochs. RMSprop gives little less test accuracy compared to the previous two. and SGD is giving us very less test accuracy level. We relatively get same accuracy comparison conclusion from the train dataset.\n",
        "* Main reason behind these differences in the accuracy levels between optimizers are their formula and information each use for parameter update.\n",
        "* AdaGrad is improved version of SGD and it includes second-order information as well while updating parameters, and this provides adaptive learning rates for each parameter. This explains why we get higher train and test accuracy with the AdaGrad than SGD.\n",
        "*Adam on the other hand also use gradients' first and second uncentred moments in its update rule. So, this momentum (running average of the gradient) further improves learning of the model parameters and that's why it gives even higher accuracy levels compared to AdaGrad.\n",
        "* RMSprop is similar to Adam but it does not use momentum of gradient, and this explains why RMSprop is slower and less accurate compared to Adam in optimizing the model parameters, and as a result it gives less test accuracy compared to Adam based trained model.\n",
        "* Also the learning rate and momentum values we select while training the model also governs our model training performance. So, it is possible that if we train SGD based model longer (i.e. for more epochs) or use higher learning rate then we may get somewhat comparable train and test accuracy levels also with the SGD optimizer based model.\n",
        "\n"
      ],
      "metadata": {
        "id": "2Cjat-2Sx_Y8"
      }
    }
  ],
  "metadata": {
    "accelerator": "GPU",
    "colab": {
      "provenance": []
    },
    "gpuClass": "standard",
    "kernelspec": {
      "display_name": "Python 3 (ipykernel)",
      "language": "python",
      "name": "python3"
    },
    "language_info": {
      "codemirror_mode": {
        "name": "ipython",
        "version": 3
      },
      "file_extension": ".py",
      "mimetype": "text/x-python",
      "name": "python",
      "nbconvert_exporter": "python",
      "pygments_lexer": "ipython3",
      "version": "3.10.9"
    }
  },
  "nbformat": 4,
  "nbformat_minor": 0
}